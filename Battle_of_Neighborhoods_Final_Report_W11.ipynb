{
    "cells": [
        {
            "cell_type": "markdown",
            "metadata": {},
            "source": "# Coursera Capstone Project\n\n## The Battle of Neighborhoods (Week 1)\n"
        },
        {
            "cell_type": "markdown",
            "metadata": {},
            "source": "### Part 1 : Introduction and Data Sections"
        },
        {
            "cell_type": "markdown",
            "metadata": {},
            "source": "### Coursera Capstone - REPORT CONTENT\n\n1.\tIntroduction Section : \n\t\u2043\tDiscussion of the business problem and the interested audience in this project.\n2.\tData Section:  \n\t\u2043\t Description of the data that will be used to solve the problem and the sources.\n3.\tMethodology section \n\t\u2043\tDiscussion and description of exploratory data analysis carried out, any inferential statistical testing performed, and if any machine learnings were used establishing the strategy and purposes.\n4.\tResults section \n\t\u2043\tDiscussion of the results.\n5.\tDiscussion section \n\t\u2043\tElaboration and discussion on any observations noted and any recommendations suggested based on the results.\n6.\tConclusion section \n\t\u2043\tReport Conclusion."
        },
        {
            "cell_type": "code",
            "execution_count": 19,
            "metadata": {},
            "outputs": [],
            "source": "# A description of the problem and a discussion of the background. (15 marks)"
        },
        {
            "cell_type": "markdown",
            "metadata": {},
            "source": "# 1.\tIntroduction Section : \n### How to choose the Best Location to start an Asian Restaurant in Dammam, Saudi Arabia?\n\n"
        },
        {
            "cell_type": "markdown",
            "metadata": {},
            "source": "### Description of the Problem and Background :\n\nOpening a restaurant is all about location. However, not every\nrestaurant is suitable for every location, and vice versa. It comes down to a combination of\nrestaurant style, target audience, your competitors. If you can define your restaurant type\nand identify your target demographic and its most populated areas, you\u2019ll be well on your\nway to choosing a restaurant location that sets your business up for success.There\u2019s a lot\nof work, planning and preparation that goes into opening a restaurant. Here are a few tips\non how to open a restaurant in Dammam and some steps you\u2019ll need to take in order to\nachieve your goal.\n1. Restuarant style: The first thing you need to decide is what type of restaurant you want\nto open and the style it will hold. Having this set in stone will make the other steps a lot\neasier. To make things a little easier, here are three categories you need to consider:\n\u2022 Food: What type of food will you be serving? Will you specialise in a certain\ncuisine?\n\u2022 Service: What type of service will you be providing? Waiter service? Self-service?\n\u2022 Atmosphere: What type of atmosphere do you want your establishment to hold?\n2. Your Target Market:\nIn order to open an Indian restaurant in Dammam, you need to be familiar with exactly\nwho you are aiming to bring into your venue. Are you targeting audience from Indian,\nPaskistani, Bangladeshhi and other East Asian origin ? You need to also be aware of the age\ngroup, the location, the amount of money they are willing to spend.\n3. Who are your competitors?\nAs well as familiarising yourself with your audience, you must do so with your\ncompetitors. Look at similar businesses in your area and well-renowned restaurants of\nthe same category. Consider the ways in which they market themselves and the service\nthey provide. What works and what doesn\u2019t? You\u2019ll need to be able to compete with\nthese establishments, so take on board what they\u2019re already doing and better it.\nBe aware of the type of your establishment and the number of similar restaurants in\nthe area you are looking to open it. If there is already a lot of them, chances are you\u2019re\nentering business in an over-saturated area and the potential for you to succeed\nquickly may be diminished. Consider opening in an area where there is a gap in the\nmarket and demand for your service. However, you must also consider the opposing. If\nthere are no restaurants in the area similar to your concept, why? It could simply be\nthat nobody has followed that path yet, or because it will not work. Do your research\nto ensure you have the right location to suit your restaurant.\n4. Create your menu:\nThe menu is the core of any restaurant. It\u2019s important you get it right, as it\u2019s the\ndeciding factor for customers deliberating a visit. Your service could be impeccable,\ndecor and atmosphere exquisite, but without a menu to match, you shall have no such\nluck in success. So when you are targeting the East Asian ethnicity audience, your menu\nshould include cuisines from India, Pakistan, Bangladesh and other East Asian.\n5. Location and Premises:\nThere are many factors that will contribute to where you decide your premises to be. It\ncan be challenging to find a venue that will factor in all of your conditions, so it is likely\nyou will have to compromise on a few things. However, here are the main factors you\nshould consider when finding premises for your new restaurant:\n\u2022 Location: How accessible is the location? Are there many competitors\nnearby?\n\u2022 Building type: What type of building would you like your restaurant to be in?\n\u2022 Target market: Make sure it is in an area where your target market is also.\n\u2022 Cost: Your ideal location may prove to be a little costly. Make sure that there\nis a realistic price point.\n"
        },
        {
            "cell_type": "code",
            "execution_count": null,
            "metadata": {},
            "outputs": [],
            "source": ""
        }
    ],
    "metadata": {
        "kernelspec": {
            "display_name": "Python 3.6",
            "language": "python",
            "name": "python3"
        },
        "language_info": {
            "codemirror_mode": {
                "name": "ipython",
                "version": 3
            },
            "file_extension": ".py",
            "mimetype": "text/x-python",
            "name": "python",
            "nbconvert_exporter": "python",
            "pygments_lexer": "ipython3",
            "version": "3.6.9"
        }
    },
    "nbformat": 4,
    "nbformat_minor": 2
}